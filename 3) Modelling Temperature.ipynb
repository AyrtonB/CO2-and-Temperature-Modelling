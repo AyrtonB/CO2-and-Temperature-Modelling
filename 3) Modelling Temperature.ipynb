{
 "cells": [
  {
   "cell_type": "markdown",
   "metadata": {},
   "source": [
    "# Modelling Temperature\n",
    "\n",
    "<br>\n",
    "\n",
    "### Imports"
   ]
  },
  {
   "cell_type": "code",
   "execution_count": 1,
   "metadata": {},
   "outputs": [],
   "source": [
    "import pandas as pd\n",
    "import numpy as np\n",
    "\n",
    "import matplotlib as mpl\n",
    "import matplotlib.pyplot as plt\n",
    "import seaborn as sns\n",
    "\n",
    "import statsmodels.api as sm\n",
    "from sklearn.gaussian_process import GaussianProcessRegressor"
   ]
  },
  {
   "cell_type": "markdown",
   "metadata": {},
   "source": [
    "<br>\n",
    "\n",
    "### Helper Functions"
   ]
  },
  {
   "cell_type": "code",
   "execution_count": 2,
   "metadata": {},
   "outputs": [],
   "source": [
    "def hide_spines(ax, positions=['top', 'right']):\n",
    "    \"\"\"\n",
    "    Pass a matplotlib axis and list of positions with spines to be removed\n",
    "    \n",
    "    args:\n",
    "        ax:          Matplotlib axis object\n",
    "        positions:   Python list e.g. ['top', 'bottom']\n",
    "    \"\"\"\n",
    "    assert isinstance(positions, list), 'Position must be passed as a list '\n",
    "    \n",
    "    for position in positions:\n",
    "        ax.spines[position].set_visible(False)\n",
    "        \n",
    "def drop_ticks(ax):\n",
    "    ax.set_xticks([])\n",
    "    ax.set_yticks([])"
   ]
  },
  {
   "cell_type": "code",
   "execution_count": null,
   "metadata": {},
   "outputs": [],
   "source": []
  },
  {
   "cell_type": "code",
   "execution_count": 3,
   "metadata": {},
   "outputs": [
    {
     "data": {
      "text/html": [
       "<div>\n",
       "<style scoped>\n",
       "    .dataframe tbody tr th:only-of-type {\n",
       "        vertical-align: middle;\n",
       "    }\n",
       "\n",
       "    .dataframe tbody tr th {\n",
       "        vertical-align: top;\n",
       "    }\n",
       "\n",
       "    .dataframe thead th {\n",
       "        text-align: right;\n",
       "    }\n",
       "</style>\n",
       "<table border=\"1\" class=\"dataframe\">\n",
       "  <thead>\n",
       "    <tr style=\"text-align: right;\">\n",
       "      <th></th>\n",
       "      <th>NASA</th>\n",
       "      <th>NOAA</th>\n",
       "      <th>MET</th>\n",
       "      <th>CandW</th>\n",
       "      <th>BE</th>\n",
       "      <th>average</th>\n",
       "    </tr>\n",
       "    <tr>\n",
       "      <th>datetime</th>\n",
       "      <th></th>\n",
       "      <th></th>\n",
       "      <th></th>\n",
       "      <th></th>\n",
       "      <th></th>\n",
       "      <th></th>\n",
       "    </tr>\n",
       "  </thead>\n",
       "  <tbody>\n",
       "    <tr>\n",
       "      <th>1851-06-30</th>\n",
       "      <td>NaN</td>\n",
       "      <td>NaN</td>\n",
       "      <td>13.883853</td>\n",
       "      <td>NaN</td>\n",
       "      <td>13.681571</td>\n",
       "      <td>13.782712</td>\n",
       "    </tr>\n",
       "    <tr>\n",
       "      <th>1852-06-29</th>\n",
       "      <td>NaN</td>\n",
       "      <td>NaN</td>\n",
       "      <td>14.038436</td>\n",
       "      <td>NaN</td>\n",
       "      <td>13.763417</td>\n",
       "      <td>13.900926</td>\n",
       "    </tr>\n",
       "    <tr>\n",
       "      <th>1853-06-30</th>\n",
       "      <td>NaN</td>\n",
       "      <td>NaN</td>\n",
       "      <td>14.028353</td>\n",
       "      <td>NaN</td>\n",
       "      <td>13.774833</td>\n",
       "      <td>13.901593</td>\n",
       "    </tr>\n",
       "    <tr>\n",
       "      <th>1854-06-30</th>\n",
       "      <td>NaN</td>\n",
       "      <td>NaN</td>\n",
       "      <td>13.986853</td>\n",
       "      <td>NaN</td>\n",
       "      <td>13.749583</td>\n",
       "      <td>13.868218</td>\n",
       "    </tr>\n",
       "    <tr>\n",
       "      <th>1855-06-30</th>\n",
       "      <td>NaN</td>\n",
       "      <td>NaN</td>\n",
       "      <td>14.006686</td>\n",
       "      <td>NaN</td>\n",
       "      <td>13.803917</td>\n",
       "      <td>13.905301</td>\n",
       "    </tr>\n",
       "  </tbody>\n",
       "</table>\n",
       "</div>"
      ],
      "text/plain": [
       "            NASA  NOAA        MET  CandW         BE    average\n",
       "datetime                                                      \n",
       "1851-06-30   NaN   NaN  13.883853    NaN  13.681571  13.782712\n",
       "1852-06-29   NaN   NaN  14.038436    NaN  13.763417  13.900926\n",
       "1853-06-30   NaN   NaN  14.028353    NaN  13.774833  13.901593\n",
       "1854-06-30   NaN   NaN  13.986853    NaN  13.749583  13.868218\n",
       "1855-06-30   NaN   NaN  14.006686    NaN  13.803917  13.905301"
      ]
     },
     "execution_count": 3,
     "metadata": {},
     "output_type": "execute_result"
    }
   ],
   "source": [
    "df_temps = pd.read_csv('data/temperatures/combined_observed.csv', parse_dates=['datetime']).set_index('datetime')\n",
    "df_temps['average'] = df_temps.mean(axis=1)\n",
    "\n",
    "df_temps.head()"
   ]
  },
  {
   "cell_type": "code",
   "execution_count": null,
   "metadata": {},
   "outputs": [],
   "source": []
  },
  {
   "cell_type": "code",
   "execution_count": 4,
   "metadata": {},
   "outputs": [
    {
     "data": {
      "text/html": [
       "<div>\n",
       "<style scoped>\n",
       "    .dataframe tbody tr th:only-of-type {\n",
       "        vertical-align: middle;\n",
       "    }\n",
       "\n",
       "    .dataframe tbody tr th {\n",
       "        vertical-align: top;\n",
       "    }\n",
       "\n",
       "    .dataframe thead th {\n",
       "        text-align: right;\n",
       "    }\n",
       "</style>\n",
       "<table border=\"1\" class=\"dataframe\">\n",
       "  <thead>\n",
       "    <tr style=\"text-align: right;\">\n",
       "      <th></th>\n",
       "      <th>CO2_ppm</th>\n",
       "    </tr>\n",
       "    <tr>\n",
       "      <th>datetime</th>\n",
       "      <th></th>\n",
       "    </tr>\n",
       "  </thead>\n",
       "  <tbody>\n",
       "    <tr>\n",
       "      <th>1974-05-19</th>\n",
       "      <td>333.34</td>\n",
       "    </tr>\n",
       "    <tr>\n",
       "      <th>1974-05-26</th>\n",
       "      <td>332.95</td>\n",
       "    </tr>\n",
       "    <tr>\n",
       "      <th>1974-06-02</th>\n",
       "      <td>332.32</td>\n",
       "    </tr>\n",
       "    <tr>\n",
       "      <th>1974-06-09</th>\n",
       "      <td>332.18</td>\n",
       "    </tr>\n",
       "    <tr>\n",
       "      <th>1974-06-16</th>\n",
       "      <td>332.37</td>\n",
       "    </tr>\n",
       "  </tbody>\n",
       "</table>\n",
       "</div>"
      ],
      "text/plain": [
       "            CO2_ppm\n",
       "datetime           \n",
       "1974-05-19   333.34\n",
       "1974-05-26   332.95\n",
       "1974-06-02   332.32\n",
       "1974-06-09   332.18\n",
       "1974-06-16   332.37"
      ]
     },
     "execution_count": 4,
     "metadata": {},
     "output_type": "execute_result"
    }
   ],
   "source": [
    "df_co2 = pd.read_csv('data/CO2/cleaned_mauna_loa.csv', parse_dates=['datetime']).set_index('datetime')\n",
    "\n",
    "df_co2.head()"
   ]
  },
  {
   "cell_type": "code",
   "execution_count": null,
   "metadata": {},
   "outputs": [],
   "source": []
  },
  {
   "cell_type": "code",
   "execution_count": 5,
   "metadata": {},
   "outputs": [
    {
     "data": {
      "text/html": [
       "<div>\n",
       "<style scoped>\n",
       "    .dataframe tbody tr th:only-of-type {\n",
       "        vertical-align: middle;\n",
       "    }\n",
       "\n",
       "    .dataframe tbody tr th {\n",
       "        vertical-align: top;\n",
       "    }\n",
       "\n",
       "    .dataframe thead th {\n",
       "        text-align: right;\n",
       "    }\n",
       "</style>\n",
       "<table border=\"1\" class=\"dataframe\">\n",
       "  <thead>\n",
       "    <tr style=\"text-align: right;\">\n",
       "      <th></th>\n",
       "      <th>co2</th>\n",
       "      <th>temperature</th>\n",
       "    </tr>\n",
       "    <tr>\n",
       "      <th>datetime</th>\n",
       "      <th></th>\n",
       "      <th></th>\n",
       "    </tr>\n",
       "  </thead>\n",
       "  <tbody>\n",
       "    <tr>\n",
       "      <th>1975</th>\n",
       "      <td>329.488182</td>\n",
       "      <td>14.083815</td>\n",
       "    </tr>\n",
       "    <tr>\n",
       "      <th>1976</th>\n",
       "      <td>331.105192</td>\n",
       "      <td>14.145794</td>\n",
       "    </tr>\n",
       "    <tr>\n",
       "      <th>1977</th>\n",
       "      <td>332.081635</td>\n",
       "      <td>14.054565</td>\n",
       "    </tr>\n",
       "    <tr>\n",
       "      <th>1978</th>\n",
       "      <td>333.830577</td>\n",
       "      <td>14.340981</td>\n",
       "    </tr>\n",
       "    <tr>\n",
       "      <th>1979</th>\n",
       "      <td>335.411887</td>\n",
       "      <td>14.230065</td>\n",
       "    </tr>\n",
       "  </tbody>\n",
       "</table>\n",
       "</div>"
      ],
      "text/plain": [
       "                 co2  temperature\n",
       "datetime                         \n",
       "1975      329.488182    14.083815\n",
       "1976      331.105192    14.145794\n",
       "1977      332.081635    14.054565\n",
       "1978      333.830577    14.340981\n",
       "1979      335.411887    14.230065"
      ]
     },
     "execution_count": 5,
     "metadata": {},
     "output_type": "execute_result"
    }
   ],
   "source": [
    "df = (pd.DataFrame()\n",
    "      .assign(co2=df_co2.resample('Y', loffset='181d').mean()['CO2_ppm'])\n",
    "      .assign(temperature=df_temps['average'])\n",
    "     )\n",
    "\n",
    "df.index = df.index.year\n",
    "\n",
    "df.head()"
   ]
  },
  {
   "cell_type": "markdown",
   "metadata": {},
   "source": [
    "<br>\n",
    "\n",
    "We'll save the new combined dataframe"
   ]
  },
  {
   "cell_type": "code",
   "execution_count": 6,
   "metadata": {},
   "outputs": [],
   "source": [
    "df.to_csv('data/co2_n_temp.csv')"
   ]
  },
  {
   "cell_type": "code",
   "execution_count": null,
   "metadata": {},
   "outputs": [],
   "source": []
  },
  {
   "cell_type": "code",
   "execution_count": 10,
   "metadata": {},
   "outputs": [
    {
     "data": {
      "text/plain": [
       "Text(0, 0.5, 'Temperature (°C)')"
      ]
     },
     "execution_count": 10,
     "metadata": {},
     "output_type": "execute_result"
    },
    {
     "data": {
      "image/png": "[encoded data removed]",
      "text/plain": [
       "<Figure size 900x600 with 1 Axes>"
      ]
     },
     "metadata": {
      "needs_background": "light"
     },
     "output_type": "display_data"
    }
   ],
   "source": [
    "fig, ax = plt.subplots(dpi=150)\n",
    "\n",
    "sns.regplot(df['co2'], df['temperature'], ax=ax)\n",
    "\n",
    "hide_spines(ax)\n",
    "ax.set_xlabel('CO$_{2}$ (ppm)')\n",
    "ax.set_ylabel('Temperature (°C)')"
   ]
  },
  {
   "cell_type": "code",
   "execution_count": null,
   "metadata": {},
   "outputs": [],
   "source": []
  },
  {
   "cell_type": "code",
   "execution_count": 20,
   "metadata": {},
   "outputs": [
    {
     "name": "stdout",
     "output_type": "stream",
     "text": [
      "                            OLS Regression Results                            \n",
      "==============================================================================\n",
      "Dep. Variable:                      y   R-squared:                       0.888\n",
      "Model:                            OLS   Adj. R-squared:                  0.885\n",
      "Method:                 Least Squares   F-statistic:                     347.6\n",
      "Date:                Tue, 07 Jan 2020   Prob (F-statistic):           1.65e-22\n",
      "Time:                        23:31:22   Log-Likelihood:                 45.852\n",
      "No. Observations:                  46   AIC:                            -87.70\n",
      "Df Residuals:                      44   BIC:                            -84.05\n",
      "Df Model:                           1                                         \n",
      "Covariance Type:            nonrobust                                         \n",
      "==============================================================================\n",
      "                 coef    std err          t      P>|t|      [0.025      0.975]\n",
      "------------------------------------------------------------------------------\n",
      "x1             0.0106      0.001     18.643      0.000       0.009       0.012\n",
      "const         10.6971      0.210     51.034      0.000      10.275      11.120\n",
      "==============================================================================\n",
      "Omnibus:                        6.143   Durbin-Watson:                   1.606\n",
      "Prob(Omnibus):                  0.046   Jarque-Bera (JB):                2.231\n",
      "Skew:                           0.091   Prob(JB):                        0.328\n",
      "Kurtosis:                       1.937   Cond. No.                     5.71e+03\n",
      "==============================================================================\n",
      "\n",
      "Warnings:\n",
      "[1] Standard Errors assume that the covariance matrix of the errors is correctly specified.\n",
      "[2] The condition number is large, 5.71e+03. This might indicate that there are\n",
      "strong multicollinearity or other numerical problems.\n"
     ]
    }
   ],
   "source": [
    "y = df['temperature'].values\n",
    "X = df['co2'].values.reshape(-1)\n",
    "X = sm.add_constant(X, prepend=False)\n",
    "\n",
    "# Fit and summarize OLS model\n",
    "OLS_mod = sm.OLS(y, X)\n",
    "\n",
    "OLS_res = OLS_mod.fit()\n",
    "\n",
    "print(OLS_res.summary())"
   ]
  },
  {
   "cell_type": "code",
   "execution_count": null,
   "metadata": {},
   "outputs": [],
   "source": []
  }
 ],
 "metadata": {
  "kernelspec": {
   "display_name": "Python 3",
   "language": "python",
   "name": "python3"
  },
  "language_info": {
   "codemirror_mode": {
    "name": "ipython",
    "version": 3
   },
   "file_extension": ".py",
   "mimetype": "text/x-python",
   "name": "python",
   "nbconvert_exporter": "python",
   "pygments_lexer": "ipython3",
   "version": "3.6.8"
  }
 },
 "nbformat": 4,
 "nbformat_minor": 4
}
